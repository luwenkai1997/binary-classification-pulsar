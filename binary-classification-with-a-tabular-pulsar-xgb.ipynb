{
 "cells": [
  {
   "cell_type": "code",
   "execution_count": 2,
   "id": "7192036c",
   "metadata": {
    "_cell_guid": "b1076dfc-b9ad-4769-8c92-a6c4dae69d19",
    "_uuid": "8f2839f25d086af736a60e9eeb907d3b93b6e0e5",
    "execution": {
     "iopub.execute_input": "2024-04-06T17:54:43.136034Z",
     "iopub.status.busy": "2024-04-06T17:54:43.135650Z",
     "iopub.status.idle": "2024-04-06T17:54:46.008160Z",
     "shell.execute_reply": "2024-04-06T17:54:46.007016Z"
    },
    "papermill": {
     "duration": 2.882218,
     "end_time": "2024-04-06T17:54:46.010974",
     "exception": false,
     "start_time": "2024-04-06T17:54:43.128756",
     "status": "completed"
    },
    "tags": []
   },
   "outputs": [],
   "source": [
    "import pandas as pd\n",
    "import numpy as np\n",
    "import seaborn as sns\n",
    "import matplotlib.pyplot as plt\n",
    "from scipy.stats.mstats import winsorize\n",
    "from sklearn.preprocessing import StandardScaler\n",
    "from sklearn.model_selection import train_test_split\n",
    "from xgboost import XGBClassifier\n",
    "from sklearn.metrics import accuracy_score, classification_report, confusion_matrix"
   ]
  },
  {
   "cell_type": "code",
   "execution_count": 23,
   "id": "c48c1e6e",
   "metadata": {
    "execution": {
     "iopub.execute_input": "2024-04-06T17:54:46.022184Z",
     "iopub.status.busy": "2024-04-06T17:54:46.021595Z",
     "iopub.status.idle": "2024-04-06T17:54:46.502714Z",
     "shell.execute_reply": "2024-04-06T17:54:46.501845Z"
    },
    "papermill": {
     "duration": 0.489274,
     "end_time": "2024-04-06T17:54:46.505096",
     "exception": false,
     "start_time": "2024-04-06T17:54:46.015822",
     "status": "completed"
    },
    "tags": []
   },
   "outputs": [],
   "source": [
    "train = pd.read_csv('playground-series-s3e10/train.csv')\n",
    "test = pd.read_csv('playground-series-s3e10/test.csv')"
   ]
  },
  {
   "cell_type": "code",
   "execution_count": 24,
   "id": "4363bc46",
   "metadata": {
    "execution": {
     "iopub.execute_input": "2024-04-06T17:54:46.516170Z",
     "iopub.status.busy": "2024-04-06T17:54:46.515569Z",
     "iopub.status.idle": "2024-04-06T17:54:46.539282Z",
     "shell.execute_reply": "2024-04-06T17:54:46.537877Z"
    },
    "papermill": {
     "duration": 0.032429,
     "end_time": "2024-04-06T17:54:46.542043",
     "exception": false,
     "start_time": "2024-04-06T17:54:46.509614",
     "status": "completed"
    },
    "tags": []
   },
   "outputs": [
    {
     "data": {
      "text/html": [
       "<div>\n",
       "<style scoped>\n",
       "    .dataframe tbody tr th:only-of-type {\n",
       "        vertical-align: middle;\n",
       "    }\n",
       "\n",
       "    .dataframe tbody tr th {\n",
       "        vertical-align: top;\n",
       "    }\n",
       "\n",
       "    .dataframe thead th {\n",
       "        text-align: right;\n",
       "    }\n",
       "</style>\n",
       "<table border=\"1\" class=\"dataframe\">\n",
       "  <thead>\n",
       "    <tr style=\"text-align: right;\">\n",
       "      <th></th>\n",
       "      <th>id</th>\n",
       "      <th>Mean_Integrated</th>\n",
       "      <th>SD</th>\n",
       "      <th>EK</th>\n",
       "      <th>Skewness</th>\n",
       "      <th>Mean_DMSNR_Curve</th>\n",
       "      <th>SD_DMSNR_Curve</th>\n",
       "      <th>EK_DMSNR_Curve</th>\n",
       "      <th>Skewness_DMSNR_Curve</th>\n",
       "      <th>Class</th>\n",
       "    </tr>\n",
       "  </thead>\n",
       "  <tbody>\n",
       "    <tr>\n",
       "      <th>0</th>\n",
       "      <td>0</td>\n",
       "      <td>133.171875</td>\n",
       "      <td>59.716081</td>\n",
       "      <td>0.043133</td>\n",
       "      <td>-0.703383</td>\n",
       "      <td>54.917224</td>\n",
       "      <td>70.084438</td>\n",
       "      <td>0.749798</td>\n",
       "      <td>-0.649512</td>\n",
       "      <td>0</td>\n",
       "    </tr>\n",
       "    <tr>\n",
       "      <th>1</th>\n",
       "      <td>1</td>\n",
       "      <td>87.093750</td>\n",
       "      <td>36.257973</td>\n",
       "      <td>0.435469</td>\n",
       "      <td>2.266057</td>\n",
       "      <td>3.417224</td>\n",
       "      <td>21.865069</td>\n",
       "      <td>7.039330</td>\n",
       "      <td>52.686251</td>\n",
       "      <td>0</td>\n",
       "    </tr>\n",
       "    <tr>\n",
       "      <th>2</th>\n",
       "      <td>2</td>\n",
       "      <td>112.640625</td>\n",
       "      <td>39.818393</td>\n",
       "      <td>0.379639</td>\n",
       "      <td>0.922306</td>\n",
       "      <td>2.730769</td>\n",
       "      <td>15.689690</td>\n",
       "      <td>8.193471</td>\n",
       "      <td>85.649785</td>\n",
       "      <td>0</td>\n",
       "    </tr>\n",
       "    <tr>\n",
       "      <th>3</th>\n",
       "      <td>3</td>\n",
       "      <td>120.679688</td>\n",
       "      <td>45.918448</td>\n",
       "      <td>-0.098490</td>\n",
       "      <td>0.011775</td>\n",
       "      <td>2.696488</td>\n",
       "      <td>20.954662</td>\n",
       "      <td>8.183874</td>\n",
       "      <td>70.332899</td>\n",
       "      <td>0</td>\n",
       "    </tr>\n",
       "    <tr>\n",
       "      <th>4</th>\n",
       "      <td>4</td>\n",
       "      <td>134.070312</td>\n",
       "      <td>57.720107</td>\n",
       "      <td>-0.107772</td>\n",
       "      <td>-0.573335</td>\n",
       "      <td>1.107860</td>\n",
       "      <td>11.255051</td>\n",
       "      <td>16.107748</td>\n",
       "      <td>308.753765</td>\n",
       "      <td>0</td>\n",
       "    </tr>\n",
       "    <tr>\n",
       "      <th>5</th>\n",
       "      <td>5</td>\n",
       "      <td>131.632812</td>\n",
       "      <td>52.563210</td>\n",
       "      <td>-0.075253</td>\n",
       "      <td>-0.495825</td>\n",
       "      <td>2.194816</td>\n",
       "      <td>15.537425</td>\n",
       "      <td>9.033439</td>\n",
       "      <td>97.032406</td>\n",
       "      <td>0</td>\n",
       "    </tr>\n",
       "    <tr>\n",
       "      <th>6</th>\n",
       "      <td>6</td>\n",
       "      <td>110.937500</td>\n",
       "      <td>41.556955</td>\n",
       "      <td>0.312844</td>\n",
       "      <td>0.559022</td>\n",
       "      <td>1.965719</td>\n",
       "      <td>17.191469</td>\n",
       "      <td>10.396774</td>\n",
       "      <td>118.724270</td>\n",
       "      <td>0</td>\n",
       "    </tr>\n",
       "    <tr>\n",
       "      <th>7</th>\n",
       "      <td>7</td>\n",
       "      <td>120.203125</td>\n",
       "      <td>49.927902</td>\n",
       "      <td>-0.089990</td>\n",
       "      <td>-0.321367</td>\n",
       "      <td>3.280100</td>\n",
       "      <td>18.376840</td>\n",
       "      <td>8.190561</td>\n",
       "      <td>77.917237</td>\n",
       "      <td>0</td>\n",
       "    </tr>\n",
       "    <tr>\n",
       "      <th>8</th>\n",
       "      <td>8</td>\n",
       "      <td>112.414062</td>\n",
       "      <td>46.939866</td>\n",
       "      <td>0.282551</td>\n",
       "      <td>0.151784</td>\n",
       "      <td>3.336957</td>\n",
       "      <td>21.929529</td>\n",
       "      <td>7.693330</td>\n",
       "      <td>65.186279</td>\n",
       "      <td>0</td>\n",
       "    </tr>\n",
       "    <tr>\n",
       "      <th>9</th>\n",
       "      <td>9</td>\n",
       "      <td>99.859375</td>\n",
       "      <td>48.089189</td>\n",
       "      <td>0.693710</td>\n",
       "      <td>0.281663</td>\n",
       "      <td>3.414716</td>\n",
       "      <td>24.181910</td>\n",
       "      <td>7.958684</td>\n",
       "      <td>65.084575</td>\n",
       "      <td>0</td>\n",
       "    </tr>\n",
       "  </tbody>\n",
       "</table>\n",
       "</div>"
      ],
      "text/plain": [
       "   id  Mean_Integrated         SD        EK  Skewness  Mean_DMSNR_Curve  \\\n",
       "0   0       133.171875  59.716081  0.043133 -0.703383         54.917224   \n",
       "1   1        87.093750  36.257973  0.435469  2.266057          3.417224   \n",
       "2   2       112.640625  39.818393  0.379639  0.922306          2.730769   \n",
       "3   3       120.679688  45.918448 -0.098490  0.011775          2.696488   \n",
       "4   4       134.070312  57.720107 -0.107772 -0.573335          1.107860   \n",
       "5   5       131.632812  52.563210 -0.075253 -0.495825          2.194816   \n",
       "6   6       110.937500  41.556955  0.312844  0.559022          1.965719   \n",
       "7   7       120.203125  49.927902 -0.089990 -0.321367          3.280100   \n",
       "8   8       112.414062  46.939866  0.282551  0.151784          3.336957   \n",
       "9   9        99.859375  48.089189  0.693710  0.281663          3.414716   \n",
       "\n",
       "   SD_DMSNR_Curve  EK_DMSNR_Curve  Skewness_DMSNR_Curve  Class  \n",
       "0       70.084438        0.749798             -0.649512      0  \n",
       "1       21.865069        7.039330             52.686251      0  \n",
       "2       15.689690        8.193471             85.649785      0  \n",
       "3       20.954662        8.183874             70.332899      0  \n",
       "4       11.255051       16.107748            308.753765      0  \n",
       "5       15.537425        9.033439             97.032406      0  \n",
       "6       17.191469       10.396774            118.724270      0  \n",
       "7       18.376840        8.190561             77.917237      0  \n",
       "8       21.929529        7.693330             65.186279      0  \n",
       "9       24.181910        7.958684             65.084575      0  "
      ]
     },
     "execution_count": 24,
     "metadata": {},
     "output_type": "execute_result"
    }
   ],
   "source": [
    "train.head(10)"
   ]
  },
  {
   "cell_type": "code",
   "execution_count": 25,
   "id": "7c5a3e1d",
   "metadata": {
    "execution": {
     "iopub.execute_input": "2024-04-06T17:54:46.554047Z",
     "iopub.status.busy": "2024-04-06T17:54:46.553222Z",
     "iopub.status.idle": "2024-04-06T17:54:46.570530Z",
     "shell.execute_reply": "2024-04-06T17:54:46.569379Z"
    },
    "papermill": {
     "duration": 0.025941,
     "end_time": "2024-04-06T17:54:46.572933",
     "exception": false,
     "start_time": "2024-04-06T17:54:46.546992",
     "status": "completed"
    },
    "tags": []
   },
   "outputs": [
    {
     "data": {
      "text/html": [
       "<div>\n",
       "<style scoped>\n",
       "    .dataframe tbody tr th:only-of-type {\n",
       "        vertical-align: middle;\n",
       "    }\n",
       "\n",
       "    .dataframe tbody tr th {\n",
       "        vertical-align: top;\n",
       "    }\n",
       "\n",
       "    .dataframe thead th {\n",
       "        text-align: right;\n",
       "    }\n",
       "</style>\n",
       "<table border=\"1\" class=\"dataframe\">\n",
       "  <thead>\n",
       "    <tr style=\"text-align: right;\">\n",
       "      <th></th>\n",
       "      <th>id</th>\n",
       "      <th>Mean_Integrated</th>\n",
       "      <th>SD</th>\n",
       "      <th>EK</th>\n",
       "      <th>Skewness</th>\n",
       "      <th>Mean_DMSNR_Curve</th>\n",
       "      <th>SD_DMSNR_Curve</th>\n",
       "      <th>EK_DMSNR_Curve</th>\n",
       "      <th>Skewness_DMSNR_Curve</th>\n",
       "    </tr>\n",
       "  </thead>\n",
       "  <tbody>\n",
       "    <tr>\n",
       "      <th>0</th>\n",
       "      <td>117564</td>\n",
       "      <td>140.046875</td>\n",
       "      <td>54.507800</td>\n",
       "      <td>0.058862</td>\n",
       "      <td>-0.567263</td>\n",
       "      <td>2.337793</td>\n",
       "      <td>14.868335</td>\n",
       "      <td>9.591760</td>\n",
       "      <td>117.988781</td>\n",
       "    </tr>\n",
       "    <tr>\n",
       "      <th>1</th>\n",
       "      <td>117565</td>\n",
       "      <td>107.828125</td>\n",
       "      <td>51.578965</td>\n",
       "      <td>0.284368</td>\n",
       "      <td>-0.338430</td>\n",
       "      <td>1.574415</td>\n",
       "      <td>12.501437</td>\n",
       "      <td>11.694968</td>\n",
       "      <td>182.704822</td>\n",
       "    </tr>\n",
       "    <tr>\n",
       "      <th>2</th>\n",
       "      <td>117566</td>\n",
       "      <td>135.062500</td>\n",
       "      <td>49.812343</td>\n",
       "      <td>-0.087784</td>\n",
       "      <td>-0.094341</td>\n",
       "      <td>3.576923</td>\n",
       "      <td>21.243336</td>\n",
       "      <td>7.252386</td>\n",
       "      <td>59.021499</td>\n",
       "    </tr>\n",
       "    <tr>\n",
       "      <th>3</th>\n",
       "      <td>117567</td>\n",
       "      <td>112.812500</td>\n",
       "      <td>41.926647</td>\n",
       "      <td>0.519921</td>\n",
       "      <td>1.287762</td>\n",
       "      <td>6.669732</td>\n",
       "      <td>29.013153</td>\n",
       "      <td>5.097661</td>\n",
       "      <td>27.105240</td>\n",
       "    </tr>\n",
       "    <tr>\n",
       "      <th>4</th>\n",
       "      <td>117568</td>\n",
       "      <td>96.210938</td>\n",
       "      <td>35.322620</td>\n",
       "      <td>0.481286</td>\n",
       "      <td>2.443080</td>\n",
       "      <td>2.218227</td>\n",
       "      <td>17.041064</td>\n",
       "      <td>9.766006</td>\n",
       "      <td>117.131775</td>\n",
       "    </tr>\n",
       "    <tr>\n",
       "      <th>5</th>\n",
       "      <td>117569</td>\n",
       "      <td>46.570312</td>\n",
       "      <td>38.052829</td>\n",
       "      <td>3.646905</td>\n",
       "      <td>13.298871</td>\n",
       "      <td>22.328595</td>\n",
       "      <td>58.845597</td>\n",
       "      <td>2.338465</td>\n",
       "      <td>4.445249</td>\n",
       "    </tr>\n",
       "    <tr>\n",
       "      <th>6</th>\n",
       "      <td>117570</td>\n",
       "      <td>143.453125</td>\n",
       "      <td>47.702010</td>\n",
       "      <td>0.012830</td>\n",
       "      <td>-0.386832</td>\n",
       "      <td>2.795151</td>\n",
       "      <td>19.438935</td>\n",
       "      <td>8.177022</td>\n",
       "      <td>75.084575</td>\n",
       "    </tr>\n",
       "    <tr>\n",
       "      <th>7</th>\n",
       "      <td>117571</td>\n",
       "      <td>114.007812</td>\n",
       "      <td>43.570141</td>\n",
       "      <td>0.459937</td>\n",
       "      <td>0.715394</td>\n",
       "      <td>4.842809</td>\n",
       "      <td>24.056088</td>\n",
       "      <td>6.503427</td>\n",
       "      <td>46.363852</td>\n",
       "    </tr>\n",
       "    <tr>\n",
       "      <th>8</th>\n",
       "      <td>117572</td>\n",
       "      <td>138.203125</td>\n",
       "      <td>49.267816</td>\n",
       "      <td>-0.170860</td>\n",
       "      <td>-0.271264</td>\n",
       "      <td>6.133779</td>\n",
       "      <td>33.884439</td>\n",
       "      <td>5.189833</td>\n",
       "      <td>27.754611</td>\n",
       "    </tr>\n",
       "    <tr>\n",
       "      <th>9</th>\n",
       "      <td>117573</td>\n",
       "      <td>118.765625</td>\n",
       "      <td>52.817649</td>\n",
       "      <td>0.178871</td>\n",
       "      <td>-0.439846</td>\n",
       "      <td>3.093645</td>\n",
       "      <td>19.962993</td>\n",
       "      <td>8.025770</td>\n",
       "      <td>75.569414</td>\n",
       "    </tr>\n",
       "  </tbody>\n",
       "</table>\n",
       "</div>"
      ],
      "text/plain": [
       "       id  Mean_Integrated         SD        EK   Skewness  Mean_DMSNR_Curve  \\\n",
       "0  117564       140.046875  54.507800  0.058862  -0.567263          2.337793   \n",
       "1  117565       107.828125  51.578965  0.284368  -0.338430          1.574415   \n",
       "2  117566       135.062500  49.812343 -0.087784  -0.094341          3.576923   \n",
       "3  117567       112.812500  41.926647  0.519921   1.287762          6.669732   \n",
       "4  117568        96.210938  35.322620  0.481286   2.443080          2.218227   \n",
       "5  117569        46.570312  38.052829  3.646905  13.298871         22.328595   \n",
       "6  117570       143.453125  47.702010  0.012830  -0.386832          2.795151   \n",
       "7  117571       114.007812  43.570141  0.459937   0.715394          4.842809   \n",
       "8  117572       138.203125  49.267816 -0.170860  -0.271264          6.133779   \n",
       "9  117573       118.765625  52.817649  0.178871  -0.439846          3.093645   \n",
       "\n",
       "   SD_DMSNR_Curve  EK_DMSNR_Curve  Skewness_DMSNR_Curve  \n",
       "0       14.868335        9.591760            117.988781  \n",
       "1       12.501437       11.694968            182.704822  \n",
       "2       21.243336        7.252386             59.021499  \n",
       "3       29.013153        5.097661             27.105240  \n",
       "4       17.041064        9.766006            117.131775  \n",
       "5       58.845597        2.338465              4.445249  \n",
       "6       19.438935        8.177022             75.084575  \n",
       "7       24.056088        6.503427             46.363852  \n",
       "8       33.884439        5.189833             27.754611  \n",
       "9       19.962993        8.025770             75.569414  "
      ]
     },
     "execution_count": 25,
     "metadata": {},
     "output_type": "execute_result"
    }
   ],
   "source": [
    "test.head(10)"
   ]
  },
  {
   "cell_type": "code",
   "execution_count": 26,
   "id": "ce560234",
   "metadata": {
    "execution": {
     "iopub.execute_input": "2024-04-06T17:54:46.585798Z",
     "iopub.status.busy": "2024-04-06T17:54:46.585349Z",
     "iopub.status.idle": "2024-04-06T17:54:46.616836Z",
     "shell.execute_reply": "2024-04-06T17:54:46.615322Z"
    },
    "papermill": {
     "duration": 0.041011,
     "end_time": "2024-04-06T17:54:46.619357",
     "exception": false,
     "start_time": "2024-04-06T17:54:46.578346",
     "status": "completed"
    },
    "tags": []
   },
   "outputs": [
    {
     "name": "stdout",
     "output_type": "stream",
     "text": [
      "<class 'pandas.core.frame.DataFrame'>\n",
      "RangeIndex: 117564 entries, 0 to 117563\n",
      "Data columns (total 10 columns):\n",
      " #   Column                Non-Null Count   Dtype  \n",
      "---  ------                --------------   -----  \n",
      " 0   id                    117564 non-null  int64  \n",
      " 1   Mean_Integrated       117564 non-null  float64\n",
      " 2   SD                    117564 non-null  float64\n",
      " 3   EK                    117564 non-null  float64\n",
      " 4   Skewness              117564 non-null  float64\n",
      " 5   Mean_DMSNR_Curve      117564 non-null  float64\n",
      " 6   SD_DMSNR_Curve        117564 non-null  float64\n",
      " 7   EK_DMSNR_Curve        117564 non-null  float64\n",
      " 8   Skewness_DMSNR_Curve  117564 non-null  float64\n",
      " 9   Class                 117564 non-null  int64  \n",
      "dtypes: float64(8), int64(2)\n",
      "memory usage: 9.0 MB\n"
     ]
    }
   ],
   "source": [
    "train.info()"
   ]
  },
  {
   "cell_type": "code",
   "execution_count": 27,
   "id": "e0838fb4",
   "metadata": {
    "execution": {
     "iopub.execute_input": "2024-04-06T17:54:46.631893Z",
     "iopub.status.busy": "2024-04-06T17:54:46.631480Z",
     "iopub.status.idle": "2024-04-06T17:54:46.641932Z",
     "shell.execute_reply": "2024-04-06T17:54:46.640910Z"
    },
    "papermill": {
     "duration": 0.019668,
     "end_time": "2024-04-06T17:54:46.644449",
     "exception": false,
     "start_time": "2024-04-06T17:54:46.624781",
     "status": "completed"
    },
    "tags": []
   },
   "outputs": [
    {
     "name": "stdout",
     "output_type": "stream",
     "text": [
      "<class 'pandas.core.frame.DataFrame'>\n",
      "RangeIndex: 78377 entries, 0 to 78376\n",
      "Data columns (total 9 columns):\n",
      " #   Column                Non-Null Count  Dtype  \n",
      "---  ------                --------------  -----  \n",
      " 0   id                    78377 non-null  int64  \n",
      " 1   Mean_Integrated       78377 non-null  float64\n",
      " 2   SD                    78377 non-null  float64\n",
      " 3   EK                    78377 non-null  float64\n",
      " 4   Skewness              78377 non-null  float64\n",
      " 5   Mean_DMSNR_Curve      78377 non-null  float64\n",
      " 6   SD_DMSNR_Curve        78377 non-null  float64\n",
      " 7   EK_DMSNR_Curve        78377 non-null  float64\n",
      " 8   Skewness_DMSNR_Curve  78377 non-null  float64\n",
      "dtypes: float64(8), int64(1)\n",
      "memory usage: 5.4 MB\n"
     ]
    }
   ],
   "source": [
    "test.info()"
   ]
  },
  {
   "cell_type": "code",
   "execution_count": 28,
   "id": "797671ff",
   "metadata": {
    "execution": {
     "iopub.execute_input": "2024-04-06T17:54:46.657155Z",
     "iopub.status.busy": "2024-04-06T17:54:46.656775Z",
     "iopub.status.idle": "2024-04-06T17:54:46.666663Z",
     "shell.execute_reply": "2024-04-06T17:54:46.665174Z"
    },
    "papermill": {
     "duration": 0.019314,
     "end_time": "2024-04-06T17:54:46.669174",
     "exception": false,
     "start_time": "2024-04-06T17:54:46.649860",
     "status": "completed"
    },
    "tags": []
   },
   "outputs": [
    {
     "data": {
      "text/plain": [
       "id                      0\n",
       "Mean_Integrated         0\n",
       "SD                      0\n",
       "EK                      0\n",
       "Skewness                0\n",
       "Mean_DMSNR_Curve        0\n",
       "SD_DMSNR_Curve          0\n",
       "EK_DMSNR_Curve          0\n",
       "Skewness_DMSNR_Curve    0\n",
       "Class                   0\n",
       "dtype: int64"
      ]
     },
     "execution_count": 28,
     "metadata": {},
     "output_type": "execute_result"
    }
   ],
   "source": [
    "train.isnull().sum()"
   ]
  },
  {
   "cell_type": "code",
   "execution_count": 29,
   "id": "b82cac89",
   "metadata": {
    "execution": {
     "iopub.execute_input": "2024-04-06T17:54:46.682342Z",
     "iopub.status.busy": "2024-04-06T17:54:46.681530Z",
     "iopub.status.idle": "2024-04-06T17:54:46.691765Z",
     "shell.execute_reply": "2024-04-06T17:54:46.690662Z"
    },
    "papermill": {
     "duration": 0.01952,
     "end_time": "2024-04-06T17:54:46.694407",
     "exception": false,
     "start_time": "2024-04-06T17:54:46.674887",
     "status": "completed"
    },
    "tags": []
   },
   "outputs": [
    {
     "data": {
      "text/plain": [
       "id                      0\n",
       "Mean_Integrated         0\n",
       "SD                      0\n",
       "EK                      0\n",
       "Skewness                0\n",
       "Mean_DMSNR_Curve        0\n",
       "SD_DMSNR_Curve          0\n",
       "EK_DMSNR_Curve          0\n",
       "Skewness_DMSNR_Curve    0\n",
       "dtype: int64"
      ]
     },
     "execution_count": 29,
     "metadata": {},
     "output_type": "execute_result"
    }
   ],
   "source": [
    "test.isnull().sum()"
   ]
  },
  {
   "cell_type": "code",
   "execution_count": 30,
   "id": "170918a3",
   "metadata": {
    "execution": {
     "iopub.execute_input": "2024-04-06T17:54:46.707983Z",
     "iopub.status.busy": "2024-04-06T17:54:46.707130Z",
     "iopub.status.idle": "2024-04-06T17:54:46.765932Z",
     "shell.execute_reply": "2024-04-06T17:54:46.764855Z"
    },
    "papermill": {
     "duration": 0.067947,
     "end_time": "2024-04-06T17:54:46.768254",
     "exception": false,
     "start_time": "2024-04-06T17:54:46.700307",
     "status": "completed"
    },
    "tags": []
   },
   "outputs": [
    {
     "data": {
      "text/plain": [
       "0"
      ]
     },
     "execution_count": 30,
     "metadata": {},
     "output_type": "execute_result"
    }
   ],
   "source": [
    "train.duplicated().sum()"
   ]
  },
  {
   "cell_type": "code",
   "execution_count": 31,
   "id": "0b5a01f5",
   "metadata": {
    "execution": {
     "iopub.execute_input": "2024-04-06T17:54:46.781386Z",
     "iopub.status.busy": "2024-04-06T17:54:46.781022Z",
     "iopub.status.idle": "2024-04-06T17:54:46.824290Z",
     "shell.execute_reply": "2024-04-06T17:54:46.823013Z"
    },
    "papermill": {
     "duration": 0.052837,
     "end_time": "2024-04-06T17:54:46.826740",
     "exception": false,
     "start_time": "2024-04-06T17:54:46.773903",
     "status": "completed"
    },
    "tags": []
   },
   "outputs": [
    {
     "data": {
      "text/plain": [
       "0"
      ]
     },
     "execution_count": 31,
     "metadata": {},
     "output_type": "execute_result"
    }
   ],
   "source": [
    "test.duplicated().sum()"
   ]
  },
  {
   "cell_type": "code",
   "execution_count": 32,
   "id": "fc9d78ec",
   "metadata": {
    "execution": {
     "iopub.execute_input": "2024-04-06T17:54:46.840359Z",
     "iopub.status.busy": "2024-04-06T17:54:46.839993Z",
     "iopub.status.idle": "2024-04-06T17:54:47.440284Z",
     "shell.execute_reply": "2024-04-06T17:54:47.439420Z"
    },
    "papermill": {
     "duration": 0.610161,
     "end_time": "2024-04-06T17:54:47.442954",
     "exception": false,
     "start_time": "2024-04-06T17:54:46.832793",
     "status": "completed"
    },
    "tags": []
   },
   "outputs": [
    {
     "data": {
      "image/png": "[encoded data removed]",
      "text/plain": [
       "<Figure size 1000x800 with 2 Axes>"
      ]
     },
     "metadata": {},
     "output_type": "display_data"
    }
   ],
   "source": [
    "numerical_cols = ['Mean_Integrated', 'SD', 'EK', 'Skewness', 'Mean_DMSNR_Curve', 'SD_DMSNR_Curve', 'EK_DMSNR_Curve', 'Skewness_DMSNR_Curve']\n",
    "plt.figure(figsize=(10, 8))\n",
    "sns.heatmap(train[numerical_cols].corr(), annot=True, cmap='coolwarm')\n",
    "plt.title('Correlation Heatmap for Numerical Columns')\n",
    "plt.show()"
   ]
  },
  {
   "cell_type": "code",
   "execution_count": 33,
   "id": "9224d27b",
   "metadata": {
    "execution": {
     "iopub.execute_input": "2024-04-06T17:54:47.459780Z",
     "iopub.status.busy": "2024-04-06T17:54:47.459375Z",
     "iopub.status.idle": "2024-04-06T17:54:47.487742Z",
     "shell.execute_reply": "2024-04-06T17:54:47.486577Z"
    },
    "papermill": {
     "duration": 0.039504,
     "end_time": "2024-04-06T17:54:47.490306",
     "exception": false,
     "start_time": "2024-04-06T17:54:47.450802",
     "status": "completed"
    },
    "tags": []
   },
   "outputs": [
    {
     "data": {
      "text/html": [
       "<div>\n",
       "<style scoped>\n",
       "    .dataframe tbody tr th:only-of-type {\n",
       "        vertical-align: middle;\n",
       "    }\n",
       "\n",
       "    .dataframe tbody tr th {\n",
       "        vertical-align: top;\n",
       "    }\n",
       "\n",
       "    .dataframe thead th {\n",
       "        text-align: right;\n",
       "    }\n",
       "</style>\n",
       "<table border=\"1\" class=\"dataframe\">\n",
       "  <thead>\n",
       "    <tr style=\"text-align: right;\">\n",
       "      <th></th>\n",
       "      <th>id</th>\n",
       "      <th>Mean_Integrated</th>\n",
       "      <th>SD</th>\n",
       "      <th>EK</th>\n",
       "      <th>Skewness</th>\n",
       "      <th>Mean_DMSNR_Curve</th>\n",
       "      <th>SD_DMSNR_Curve</th>\n",
       "      <th>EK_DMSNR_Curve</th>\n",
       "      <th>Skewness_DMSNR_Curve</th>\n",
       "      <th>Class</th>\n",
       "    </tr>\n",
       "  </thead>\n",
       "  <tbody>\n",
       "    <tr>\n",
       "      <th>0</th>\n",
       "      <td>0</td>\n",
       "      <td>0.880240</td>\n",
       "      <td>2.130547</td>\n",
       "      <td>-0.408455</td>\n",
       "      <td>-0.397482</td>\n",
       "      <td>1.607581</td>\n",
       "      <td>2.190105</td>\n",
       "      <td>-1.897360</td>\n",
       "      <td>-1.182197</td>\n",
       "      <td>0</td>\n",
       "    </tr>\n",
       "    <tr>\n",
       "      <th>1</th>\n",
       "      <td>1</td>\n",
       "      <td>-0.969814</td>\n",
       "      <td>-1.713208</td>\n",
       "      <td>-0.060358</td>\n",
       "      <td>0.058273</td>\n",
       "      <td>-0.319826</td>\n",
       "      <td>-0.215829</td>\n",
       "      <td>-0.259872</td>\n",
       "      <td>-0.515181</td>\n",
       "      <td>0</td>\n",
       "    </tr>\n",
       "    <tr>\n",
       "      <th>2</th>\n",
       "      <td>2</td>\n",
       "      <td>0.055902</td>\n",
       "      <td>-1.129811</td>\n",
       "      <td>-0.109893</td>\n",
       "      <td>-0.147968</td>\n",
       "      <td>-0.345517</td>\n",
       "      <td>-0.523953</td>\n",
       "      <td>0.040610</td>\n",
       "      <td>-0.102940</td>\n",
       "      <td>0</td>\n",
       "    </tr>\n",
       "    <tr>\n",
       "      <th>3</th>\n",
       "      <td>3</td>\n",
       "      <td>0.378674</td>\n",
       "      <td>-0.130280</td>\n",
       "      <td>-0.534109</td>\n",
       "      <td>-0.287718</td>\n",
       "      <td>-0.346800</td>\n",
       "      <td>-0.261254</td>\n",
       "      <td>0.038112</td>\n",
       "      <td>-0.294493</td>\n",
       "      <td>0</td>\n",
       "    </tr>\n",
       "    <tr>\n",
       "      <th>4</th>\n",
       "      <td>4</td>\n",
       "      <td>0.916312</td>\n",
       "      <td>1.803494</td>\n",
       "      <td>-0.542344</td>\n",
       "      <td>-0.377522</td>\n",
       "      <td>-0.406255</td>\n",
       "      <td>-0.745222</td>\n",
       "      <td>2.101103</td>\n",
       "      <td>2.687193</td>\n",
       "      <td>0</td>\n",
       "    </tr>\n",
       "    <tr>\n",
       "      <th>5</th>\n",
       "      <td>5</td>\n",
       "      <td>0.818446</td>\n",
       "      <td>0.958505</td>\n",
       "      <td>-0.513492</td>\n",
       "      <td>-0.365626</td>\n",
       "      <td>-0.365575</td>\n",
       "      <td>-0.531550</td>\n",
       "      <td>0.259297</td>\n",
       "      <td>0.039410</td>\n",
       "      <td>0</td>\n",
       "    </tr>\n",
       "    <tr>\n",
       "      <th>6</th>\n",
       "      <td>6</td>\n",
       "      <td>-0.012479</td>\n",
       "      <td>-0.844937</td>\n",
       "      <td>-0.169156</td>\n",
       "      <td>-0.203726</td>\n",
       "      <td>-0.374149</td>\n",
       "      <td>-0.449021</td>\n",
       "      <td>0.614243</td>\n",
       "      <td>0.310688</td>\n",
       "      <td>0</td>\n",
       "    </tr>\n",
       "    <tr>\n",
       "      <th>7</th>\n",
       "      <td>7</td>\n",
       "      <td>0.359540</td>\n",
       "      <td>0.526694</td>\n",
       "      <td>-0.526568</td>\n",
       "      <td>-0.338849</td>\n",
       "      <td>-0.324958</td>\n",
       "      <td>-0.389876</td>\n",
       "      <td>0.039853</td>\n",
       "      <td>-0.199643</td>\n",
       "      <td>0</td>\n",
       "    </tr>\n",
       "    <tr>\n",
       "      <th>8</th>\n",
       "      <td>8</td>\n",
       "      <td>0.046806</td>\n",
       "      <td>0.037086</td>\n",
       "      <td>-0.196033</td>\n",
       "      <td>-0.266229</td>\n",
       "      <td>-0.322830</td>\n",
       "      <td>-0.212613</td>\n",
       "      <td>-0.089602</td>\n",
       "      <td>-0.358856</td>\n",
       "      <td>0</td>\n",
       "    </tr>\n",
       "    <tr>\n",
       "      <th>9</th>\n",
       "      <td>9</td>\n",
       "      <td>-0.457270</td>\n",
       "      <td>0.225409</td>\n",
       "      <td>0.168764</td>\n",
       "      <td>-0.246295</td>\n",
       "      <td>-0.319920</td>\n",
       "      <td>-0.100229</td>\n",
       "      <td>-0.020517</td>\n",
       "      <td>-0.360128</td>\n",
       "      <td>0</td>\n",
       "    </tr>\n",
       "  </tbody>\n",
       "</table>\n",
       "</div>"
      ],
      "text/plain": [
       "   id  Mean_Integrated        SD        EK  Skewness  Mean_DMSNR_Curve  \\\n",
       "0   0         0.880240  2.130547 -0.408455 -0.397482          1.607581   \n",
       "1   1        -0.969814 -1.713208 -0.060358  0.058273         -0.319826   \n",
       "2   2         0.055902 -1.129811 -0.109893 -0.147968         -0.345517   \n",
       "3   3         0.378674 -0.130280 -0.534109 -0.287718         -0.346800   \n",
       "4   4         0.916312  1.803494 -0.542344 -0.377522         -0.406255   \n",
       "5   5         0.818446  0.958505 -0.513492 -0.365626         -0.365575   \n",
       "6   6        -0.012479 -0.844937 -0.169156 -0.203726         -0.374149   \n",
       "7   7         0.359540  0.526694 -0.526568 -0.338849         -0.324958   \n",
       "8   8         0.046806  0.037086 -0.196033 -0.266229         -0.322830   \n",
       "9   9        -0.457270  0.225409  0.168764 -0.246295         -0.319920   \n",
       "\n",
       "   SD_DMSNR_Curve  EK_DMSNR_Curve  Skewness_DMSNR_Curve  Class  \n",
       "0        2.190105       -1.897360             -1.182197      0  \n",
       "1       -0.215829       -0.259872             -0.515181      0  \n",
       "2       -0.523953        0.040610             -0.102940      0  \n",
       "3       -0.261254        0.038112             -0.294493      0  \n",
       "4       -0.745222        2.101103              2.687193      0  \n",
       "5       -0.531550        0.259297              0.039410      0  \n",
       "6       -0.449021        0.614243              0.310688      0  \n",
       "7       -0.389876        0.039853             -0.199643      0  \n",
       "8       -0.212613       -0.089602             -0.358856      0  \n",
       "9       -0.100229       -0.020517             -0.360128      0  "
      ]
     },
     "execution_count": 33,
     "metadata": {},
     "output_type": "execute_result"
    }
   ],
   "source": [
    "scaler = StandardScaler()\n",
    "train[numerical_cols] = scaler.fit_transform(train[numerical_cols])\n",
    "train.head(10)"
   ]
  },
  {
   "cell_type": "code",
   "execution_count": 34,
   "id": "8de85a7c",
   "metadata": {
    "execution": {
     "iopub.execute_input": "2024-04-06T17:54:47.507767Z",
     "iopub.status.busy": "2024-04-06T17:54:47.507273Z",
     "iopub.status.idle": "2024-04-06T17:54:47.550994Z",
     "shell.execute_reply": "2024-04-06T17:54:47.549758Z"
    },
    "papermill": {
     "duration": 0.056051,
     "end_time": "2024-04-06T17:54:47.553748",
     "exception": false,
     "start_time": "2024-04-06T17:54:47.497697",
     "status": "completed"
    },
    "tags": []
   },
   "outputs": [],
   "source": [
    "X = train.drop(columns=['Class'])\n",
    "y = train['Class']\n",
    "X_train, X_test, y_train, y_test = train_test_split(X, y, test_size=0.2, random_state=42)"
   ]
  },
  {
   "cell_type": "code",
   "execution_count": 35,
   "id": "c3131454",
   "metadata": {
    "execution": {
     "iopub.execute_input": "2024-04-06T17:54:47.571140Z",
     "iopub.status.busy": "2024-04-06T17:54:47.570745Z",
     "iopub.status.idle": "2024-04-06T17:54:48.361092Z",
     "shell.execute_reply": "2024-04-06T17:54:48.359195Z"
    },
    "papermill": {
     "duration": 0.803143,
     "end_time": "2024-04-06T17:54:48.364214",
     "exception": false,
     "start_time": "2024-04-06T17:54:47.561071",
     "status": "completed"
    },
    "tags": []
   },
   "outputs": [
    {
     "name": "stderr",
     "output_type": "stream",
     "text": [
      "/Users/luwenkai/anaconda3/lib/python3.11/site-packages/xgboost/core.py:158: UserWarning: [15:59:22] WARNING: /var/folders/c_/qfmhj66j0tn016nkx_th4hxm0000gp/T/abs_b6qk1lz_ug/croot/xgboost-split_1724073748391/work/src/learner.cc:740: \n",
      "Parameters: { \"min_samples_leaf\", \"min_samples_split\" } are not used.\n",
      "\n",
      "  warnings.warn(smsg, UserWarning)\n"
     ]
    },
    {
     "name": "stdout",
     "output_type": "stream",
     "text": [
      "Accuracy: 0.9903882958363458\n",
      "Classification Report:\n",
      "               precision    recall  f1-score   support\n",
      "\n",
      "           0       0.99      1.00      0.99     21318\n",
      "           1       0.96      0.93      0.95      2195\n",
      "\n",
      "    accuracy                           0.99     23513\n",
      "   macro avg       0.98      0.96      0.97     23513\n",
      "weighted avg       0.99      0.99      0.99     23513\n",
      "\n",
      "Confusion Matrix:\n",
      " [[21238    80]\n",
      " [  146  2049]]\n"
     ]
    }
   ],
   "source": [
    "xg_classifier = XGBClassifier(n_estimators=100, max_depth=None, min_samples_split=2, min_samples_leaf=1)\n",
    "xg_classifier.fit(X_train, y_train)\n",
    "\n",
    "y_pred = xg_classifier.predict(X_test)\n",
    "\n",
    "accuracy = accuracy_score(y_test, y_pred)\n",
    "classification_rep = classification_report(y_test, y_pred)\n",
    "conf_matrix = confusion_matrix(y_test, y_pred)\n",
    "\n",
    "print(\"Accuracy:\", accuracy)\n",
    "print(\"Classification Report:\\n\", classification_rep)\n",
    "print(\"Confusion Matrix:\\n\", conf_matrix)"
   ]
  },
  {
   "cell_type": "code",
   "execution_count": 18,
   "id": "d73ab34a",
   "metadata": {
    "execution": {
     "iopub.execute_input": "2024-04-06T17:54:48.382637Z",
     "iopub.status.busy": "2024-04-06T17:54:48.381642Z",
     "iopub.status.idle": "2024-04-06T17:54:48.531019Z",
     "shell.execute_reply": "2024-04-06T17:54:48.529704Z"
    },
    "papermill": {
     "duration": 0.161333,
     "end_time": "2024-04-06T17:54:48.533650",
     "exception": false,
     "start_time": "2024-04-06T17:54:48.372317",
     "status": "completed"
    },
    "tags": []
   },
   "outputs": [],
   "source": [
    "y_pred_test = xg_classifier.predict(test)\n",
    "\n",
    "submission = pd.DataFrame({'id': test['id'], 'Class': y_pred_test})\n",
    "submission.to_csv('submission.csv', index=False)"
   ]
  },
  {
   "cell_type": "code",
   "execution_count": 19,
   "id": "c09efbc2",
   "metadata": {
    "execution": {
     "iopub.execute_input": "2024-04-06T17:54:48.551495Z",
     "iopub.status.busy": "2024-04-06T17:54:48.551107Z",
     "iopub.status.idle": "2024-04-06T17:54:48.562106Z",
     "shell.execute_reply": "2024-04-06T17:54:48.561007Z"
    },
    "papermill": {
     "duration": 0.022791,
     "end_time": "2024-04-06T17:54:48.564508",
     "exception": false,
     "start_time": "2024-04-06T17:54:48.541717",
     "status": "completed"
    },
    "tags": []
   },
   "outputs": [
    {
     "data": {
      "text/html": [
       "<div>\n",
       "<style scoped>\n",
       "    .dataframe tbody tr th:only-of-type {\n",
       "        vertical-align: middle;\n",
       "    }\n",
       "\n",
       "    .dataframe tbody tr th {\n",
       "        vertical-align: top;\n",
       "    }\n",
       "\n",
       "    .dataframe thead th {\n",
       "        text-align: right;\n",
       "    }\n",
       "</style>\n",
       "<table border=\"1\" class=\"dataframe\">\n",
       "  <thead>\n",
       "    <tr style=\"text-align: right;\">\n",
       "      <th></th>\n",
       "      <th>id</th>\n",
       "      <th>Class</th>\n",
       "    </tr>\n",
       "  </thead>\n",
       "  <tbody>\n",
       "    <tr>\n",
       "      <th>0</th>\n",
       "      <td>117564</td>\n",
       "      <td>1</td>\n",
       "    </tr>\n",
       "    <tr>\n",
       "      <th>1</th>\n",
       "      <td>117565</td>\n",
       "      <td>1</td>\n",
       "    </tr>\n",
       "    <tr>\n",
       "      <th>2</th>\n",
       "      <td>117566</td>\n",
       "      <td>1</td>\n",
       "    </tr>\n",
       "    <tr>\n",
       "      <th>3</th>\n",
       "      <td>117567</td>\n",
       "      <td>1</td>\n",
       "    </tr>\n",
       "    <tr>\n",
       "      <th>4</th>\n",
       "      <td>117568</td>\n",
       "      <td>1</td>\n",
       "    </tr>\n",
       "    <tr>\n",
       "      <th>...</th>\n",
       "      <td>...</td>\n",
       "      <td>...</td>\n",
       "    </tr>\n",
       "    <tr>\n",
       "      <th>78372</th>\n",
       "      <td>195936</td>\n",
       "      <td>1</td>\n",
       "    </tr>\n",
       "    <tr>\n",
       "      <th>78373</th>\n",
       "      <td>195937</td>\n",
       "      <td>1</td>\n",
       "    </tr>\n",
       "    <tr>\n",
       "      <th>78374</th>\n",
       "      <td>195938</td>\n",
       "      <td>1</td>\n",
       "    </tr>\n",
       "    <tr>\n",
       "      <th>78375</th>\n",
       "      <td>195939</td>\n",
       "      <td>1</td>\n",
       "    </tr>\n",
       "    <tr>\n",
       "      <th>78376</th>\n",
       "      <td>195940</td>\n",
       "      <td>1</td>\n",
       "    </tr>\n",
       "  </tbody>\n",
       "</table>\n",
       "<p>78377 rows × 2 columns</p>\n",
       "</div>"
      ],
      "text/plain": [
       "           id  Class\n",
       "0      117564      1\n",
       "1      117565      1\n",
       "2      117566      1\n",
       "3      117567      1\n",
       "4      117568      1\n",
       "...       ...    ...\n",
       "78372  195936      1\n",
       "78373  195937      1\n",
       "78374  195938      1\n",
       "78375  195939      1\n",
       "78376  195940      1\n",
       "\n",
       "[78377 rows x 2 columns]"
      ]
     },
     "execution_count": 19,
     "metadata": {},
     "output_type": "execute_result"
    }
   ],
   "source": [
    "submission"
   ]
  },
  {
   "cell_type": "code",
   "execution_count": null,
   "id": "32bd89b4",
   "metadata": {
    "papermill": {
     "duration": 0.007711,
     "end_time": "2024-04-06T17:54:48.579850",
     "exception": false,
     "start_time": "2024-04-06T17:54:48.572139",
     "status": "completed"
    },
    "tags": []
   },
   "outputs": [],
   "source": []
  }
 ],
 "metadata": {
  "kaggle": {
   "accelerator": "none",
   "dataSources": [
    {
     "databundleVersionId": 5148345,
     "sourceId": 47789,
     "sourceType": "competition"
    }
   ],
   "dockerImageVersionId": 30673,
   "isGpuEnabled": false,
   "isInternetEnabled": true,
   "language": "python",
   "sourceType": "notebook"
  },
  "kernelspec": {
   "display_name": "Python 3 (ipykernel)",
   "language": "python",
   "name": "python3"
  },
  "language_info": {
   "codemirror_mode": {
    "name": "ipython",
    "version": 3
   },
   "file_extension": ".py",
   "mimetype": "text/x-python",
   "name": "python",
   "nbconvert_exporter": "python",
   "pygments_lexer": "ipython3",
   "version": "3.11.3"
  },
  "papermill": {
   "default_parameters": {},
   "duration": 9.143362,
   "end_time": "2024-04-06T17:54:49.309813",
   "environment_variables": {},
   "exception": null,
   "input_path": "__notebook__.ipynb",
   "output_path": "__notebook__.ipynb",
   "parameters": {},
   "start_time": "2024-04-06T17:54:40.166451",
   "version": "2.5.0"
  }
 },
 "nbformat": 4,
 "nbformat_minor": 5
}
